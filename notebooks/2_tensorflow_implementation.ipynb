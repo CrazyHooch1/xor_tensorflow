{
 "cells": [
  {
   "cell_type": "markdown",
   "metadata": {},
   "source": [
    "# Tensorflow implementation of the XOR problem"
   ]
  },
  {
   "cell_type": "code",
   "execution_count": 24,
   "metadata": {
    "scrolled": false
   },
   "outputs": [
    {
     "name": "stdout",
     "output_type": "stream",
     "text": [
      "step 0 : entropy 2.78904390335083\n",
      "step 10 : entropy 4.090571403503418\n",
      "step 20 : entropy 2.847476005554199\n",
      "step 30 : entropy 2.712128162384033\n",
      "step 40 : entropy 2.5885987281799316\n",
      "step 50 : entropy 2.336134433746338\n",
      "step 60 : entropy 2.12536883354187\n",
      "step 70 : entropy 1.833484411239624\n",
      "step 80 : entropy 1.3841283321380615\n",
      "step 90 : entropy 1.1209683418273926\n",
      "step 100 : entropy 0.9494397640228271\n",
      "step 110 : entropy 0.6878400444984436\n",
      "step 120 : entropy 0.5499411821365356\n",
      "step 130 : entropy 0.4333615005016327\n",
      "step 140 : entropy 0.3401205539703369\n",
      "step 150 : entropy 0.28003814816474915\n",
      "step 160 : entropy 0.23439960181713104\n",
      "step 170 : entropy 0.2076774537563324\n",
      "step 180 : entropy 0.1741049736738205\n",
      "step 190 : entropy 0.1544666588306427\n",
      "step 200 : entropy 0.1367207020521164\n",
      "step 210 : entropy 0.12122409790754318\n",
      "step 220 : entropy 0.10938291996717453\n",
      "step 230 : entropy 0.09821237623691559\n",
      "step 240 : entropy 0.09133411198854446\n",
      "step 250 : entropy 0.08261134475469589\n",
      "step 260 : entropy 0.07665842026472092\n",
      "step 270 : entropy 0.07085569202899933\n",
      "step 280 : entropy 0.06580900400876999\n",
      "step 290 : entropy 0.06173146516084671\n",
      "step 300 : entropy 0.057547636330127716\n",
      "step 310 : entropy 0.0546858124434948\n",
      "step 320 : entropy 0.051319777965545654\n",
      "step 330 : entropy 0.04863766208291054\n",
      "step 340 : entropy 0.04579184949398041\n",
      "step 350 : entropy 0.04341153800487518\n",
      "step 360 : entropy 0.041482970118522644\n",
      "step 370 : entropy 0.03945818915963173\n",
      "step 380 : entropy 0.037797100841999054\n",
      "step 390 : entropy 0.03607966750860214\n",
      "step 400 : entropy 0.03442376106977463\n",
      "step 410 : entropy 0.03320083022117615\n",
      "step 420 : entropy 0.03170173987746239\n",
      "step 430 : entropy 0.030546884983778\n",
      "step 440 : entropy 0.02950582094490528\n",
      "step 450 : entropy 0.02842256985604763\n",
      "step 460 : entropy 0.027338428422808647\n",
      "step 470 : entropy 0.026446234434843063\n",
      "step 480 : entropy 0.025475233793258667\n",
      "step 490 : entropy 0.024693744257092476\n",
      "accuracy 1.0\n"
     ]
    }
   ],
   "source": [
    "import tensorflow as tf\n",
    "sess = tf.InteractiveSession()\n",
    "\n",
    "# Desired input output mapping of XOR function:\n",
    "X = [[0, 0], [0, 1], [1, 0], [1, 1]] # input\n",
    "Y =[[1,0],  [0,1],  [0,1], [1,0]] \n",
    "\n",
    "x = tf.placeholder(\"float\", [None,2]) \n",
    "y_ = tf.placeholder(\"float\", [None, 2])\n",
    "\n",
    "# define number of hidden nodes and training iterations\n",
    "number_hidden_nodes = 16\n",
    "n_epochs = 500\n",
    "\n",
    "W = tf.Variable(tf.random_uniform([2, number_hidden_nodes]))\n",
    "b = tf.Variable(tf.random_uniform([number_hidden_nodes]))\n",
    "hidden  = tf.nn.relu(tf.matmul(x,W) + b) \n",
    "\n",
    "y = tf.nn.softmax(tf.matmul(hidden, W2)+b2)\n",
    "\n",
    "\n",
    "# Define loss and optimizer\n",
    "cross_entropy = -tf.reduce_sum(y_*tf.log(y))\n",
    "train_step = tf.train.GradientDescentOptimizer(learning_rate=0.1).minimize(cross_entropy)\n",
    "\n",
    "# Train\n",
    "tf.initialize_all_variables().run()\n",
    "for step in range(n_epochs):\n",
    "    # Create an input dictionary for feeding the network\n",
    "    input_dict={x: X, y_:Y } \n",
    "    \n",
    "    # Get loss in each epoch and print it at each 10th iteration\n",
    "    e,a=sess.run([cross_entropy,train_step], input_dict)\n",
    "    if step % 10 == 0:\n",
    "        print(\"step {s} : entropy {e}\".format(s=step,e=e))\n",
    "\n",
    "\n",
    "# Test trained model\n",
    "correct_prediction = tf.equal(tf.argmax(y,1), tf.argmax(y_,1)) \n",
    "accuracy = tf.reduce_mean(tf.cast(correct_prediction, \"float\"))\n",
    "print (\"accuracy {a}\".format(a=accuracy.eval({x: x_, y_: expect})))"
   ]
  },
  {
   "cell_type": "code",
   "execution_count": null,
   "metadata": {},
   "outputs": [],
   "source": []
  }
 ],
 "metadata": {
  "kernelspec": {
   "display_name": "Python 3",
   "language": "python",
   "name": "python3"
  },
  "language_info": {
   "codemirror_mode": {
    "name": "ipython",
    "version": 3
   },
   "file_extension": ".py",
   "mimetype": "text/x-python",
   "name": "python",
   "nbconvert_exporter": "python",
   "pygments_lexer": "ipython3",
   "version": "3.7.3"
  }
 },
 "nbformat": 4,
 "nbformat_minor": 2
}
